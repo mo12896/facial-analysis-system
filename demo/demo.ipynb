{
 "cells": [
  {
   "attachments": {},
   "cell_type": "markdown",
   "metadata": {},
   "source": [
    "Ca be used in Google Colab for GPU-accelerated, parellelized inference:"
   ]
  },
  {
   "cell_type": "code",
   "execution_count": null,
   "metadata": {},
   "outputs": [],
   "source": [
    "from google.colab import drive, runtime\n",
    "drive.mount('/content/drive', force_remount=True)"
   ]
  },
  {
   "cell_type": "code",
   "execution_count": null,
   "metadata": {},
   "outputs": [],
   "source": [
    "folder_name = MIT/Code/masterthesis/\n",
    "%cd drive/MyDrive/{$folder_name}\n",
    "\n",
    "!apt-get update && \\\n",
    "!apt-get install -y libgl1-mesa-glx cmake protobuf-compiler\n",
    "\n",
    "!pip3 install --upgrade pip \\\n",
    "    && pip3 install --default-timeout=10000000 torch torchvision --extra-index-url https://download.pytorch.org/whl/cu116 \\\n",
    "    && pip3 install --default-timeout=10000000 -r requirements.txt\n",
    "    \n",
    "%cd external/synergy/Sim3DR/\n",
    "\n",
    "!chmod +x build_sim3dr.sh\n",
    "!./build_sim3dr.sh\n",
    "\n",
    "%cd ../FaceBoxes\n",
    "\n",
    "!chmod +x build_cpu_nms.sh\n",
    "!./build_cpu_nms.sh\n",
    "\n",
    "%cd ../../.."
   ]
  },
  {
   "attachments": {},
   "cell_type": "markdown",
   "metadata": {},
   "source": [
    "### Inject a list of teams to the scraper.py script\n",
    "\n",
    "For example, the following command will scrape the data for the teams in the list of teams\n",
    "\n",
    "```\n",
    "!python scraper.py team_01 team_02 team_03\n",
    "```"
   ]
  },
  {
   "cell_type": "code",
   "execution_count": null,
   "metadata": {},
   "outputs": [],
   "source": [
    "!python scraper.py \n",
    "\n",
    "runtime.unassign()"
   ]
  },
  {
   "cell_type": "code",
   "execution_count": null,
   "metadata": {},
   "outputs": [],
   "source": []
  }
 ],
 "metadata": {
  "kernelspec": {
   "display_name": "emorec",
   "language": "python",
   "name": "python3"
  },
  "language_info": {
   "name": "python",
   "version": "3.10.4"
  },
  "orig_nbformat": 4,
  "vscode": {
   "interpreter": {
    "hash": "0c67f0142598d7b06f34a2acb15d98e76cb3b1e66b7b86f21a91e42da5de8188"
   }
  }
 },
 "nbformat": 4,
 "nbformat_minor": 2
}
