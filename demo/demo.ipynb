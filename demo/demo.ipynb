{
 "cells": [
  {
   "cell_type": "code",
   "execution_count": null,
   "metadata": {},
   "outputs": [],
   "source": [
    "from google.colab import drive, runtime\n",
    "drive.mount('/content/drive', force_remount=True)"
   ]
  },
  {
   "cell_type": "code",
   "execution_count": null,
   "metadata": {},
   "outputs": [],
   "source": [
    "folder_name = MIT/Code/masterthesis/\n",
    "%cd drive/MyDrive/{$folder_name}\n",
    "\n",
    "!apt-get update && \\\n",
    "!apt-get install -y libgl1-mesa-glx cmake protobuf-compiler\n",
    "\n",
    "!pip3 install --upgrade pip \\\n",
    "    && pip3 install --default-timeout=10000000 torch torchvision --extra-index-url https://download.pytorch.org/whl/cu116 \\\n",
    "    && pip3 install --default-timeout=10000000 -r requirements.txt\n",
    "    \n",
    "%cd external/synergy/Sim3DR/\n",
    "\n",
    "!chmod +x build_sim3dr.sh\n",
    "!./build_sim3dr.sh\n",
    "\n",
    "%cd ../FaceBoxes\n",
    "\n",
    "!chmod +x build_cpu_nms.sh\n",
    "!./build_cpu_nms.sh\n",
    "\n",
    "%cd ../../.."
   ]
  },
  {
   "attachments": {},
   "cell_type": "markdown",
   "metadata": {},
   "source": [
    "### Inject a list of teams to the scraper.py script\n",
    "\n",
    "For example, the following command will scrape the data for the teams in the list of teams\n",
    "\n",
    "```\n",
    "!python scraper.py team_01 team_02 team_03\n",
    "```"
   ]
  },
  {
   "cell_type": "code",
   "execution_count": null,
   "metadata": {},
   "outputs": [],
   "source": [
    "!python scraper.py \n",
    "\n",
    "runtime.unassign()"
   ]
  },
  {
   "cell_type": "code",
   "execution_count": null,
   "metadata": {},
   "outputs": [],
   "source": []
  }
 ],
 "metadata": {
  "language_info": {
   "name": "python"
  },
  "orig_nbformat": 4
 },
 "nbformat": 4,
 "nbformat_minor": 2
}
